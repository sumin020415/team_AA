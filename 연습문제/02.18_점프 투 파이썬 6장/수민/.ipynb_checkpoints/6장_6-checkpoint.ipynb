{
 "cells": [
  {
   "cell_type": "code",
   "execution_count": 5,
   "id": "fd233cd5-aed2-476b-9de7-0fd957d88dba",
   "metadata": {},
   "outputs": [
    {
     "name": "stdout",
     "output_type": "stream",
     "text": [
      "d:/PSM/code/프로그램\\.ipynb_checkpoints\\distinction-checkpoint.py\n",
      "d:/PSM/code/프로그램\\.ipynb_checkpoints\\palindrome-checkpoint.py\n",
      "d:/PSM/code/프로그램\\.ipynb_checkpoints\\sam-checkpoint.py\n",
      "d:/PSM/code/프로그램\\add.py\n",
      "d:/PSM/code/프로그램\\distinction.py\n",
      "d:/PSM/code/프로그램\\find_word.py\n",
      "d:/PSM/code/프로그램\\gugu.py\n",
      "d:/PSM/code/프로그램\\mod1.py\n",
      "d:/PSM/code/프로그램\\mod2.py\n",
      "d:/PSM/code/프로그램\\mod3.py\n",
      "d:/PSM/code/프로그램\\palindrome.py\n",
      "d:/PSM/code/프로그램\\sam.py\n",
      "d:/PSM/code/프로그램\\test.py\n"
     ]
    }
   ],
   "source": [
    "import os\n",
    "\n",
    "def search(dirname):\n",
    "    try:\n",
    "        filenames = os.listdir(dirname)\n",
    "        for filename in filenames:\n",
    "            full_filename = os.path.join(dirname, filename)\n",
    "            if os.path.isdir(full_filename):\n",
    "                search(full_filename)\n",
    "            else:\n",
    "                ext = os.path.splitext(full_filename)[-1]\n",
    "                if ext == '.py': \n",
    "                    print(full_filename)\n",
    "    except PermissionError:\n",
    "        pass\n",
    "\n",
    "search(\"d:/PSM/code/프로그램\")"
   ]
  },
  {
   "cell_type": "code",
   "execution_count": 6,
   "id": "c47d57c0-6df6-4732-b02e-15a340551bc5",
   "metadata": {},
   "outputs": [
    {
     "name": "stdout",
     "output_type": "stream",
     "text": [
      "d:/PSM/code/프로그램/add.py\n",
      "d:/PSM/code/프로그램/distinction.py\n",
      "d:/PSM/code/프로그램/find_word.py\n",
      "d:/PSM/code/프로그램/gugu.py\n",
      "d:/PSM/code/프로그램/mod1.py\n",
      "d:/PSM/code/프로그램/mod2.py\n",
      "d:/PSM/code/프로그램/mod3.py\n",
      "d:/PSM/code/프로그램/palindrome.py\n",
      "d:/PSM/code/프로그램/sam.py\n",
      "d:/PSM/code/프로그램/test.py\n",
      "d:/PSM/code/프로그램\\.ipynb_checkpoints/distinction-checkpoint.py\n",
      "d:/PSM/code/프로그램\\.ipynb_checkpoints/palindrome-checkpoint.py\n",
      "d:/PSM/code/프로그램\\.ipynb_checkpoints/sam-checkpoint.py\n"
     ]
    }
   ],
   "source": [
    "# os\n",
    "import os\n",
    "\n",
    "for (path, dir, files) in os.walk(\"d:/PSM/code/프로그램\"):\n",
    "    for filename in files:\n",
    "        ext = os.path.splitext(filename)[-1]\n",
    "        if ext == '.py':\n",
    "            print(\"%s/%s\" % (path, filename))\n"
   ]
  }
 ],
 "metadata": {
  "kernelspec": {
   "display_name": "Python 3 (ipykernel)",
   "language": "python",
   "name": "python3"
  },
  "language_info": {
   "codemirror_mode": {
    "name": "ipython",
    "version": 3
   },
   "file_extension": ".py",
   "mimetype": "text/x-python",
   "name": "python",
   "nbconvert_exporter": "python",
   "pygments_lexer": "ipython3",
   "version": "3.13.1"
  }
 },
 "nbformat": 4,
 "nbformat_minor": 5
}
