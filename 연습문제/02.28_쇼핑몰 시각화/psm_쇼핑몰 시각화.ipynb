{
 "cells": [
  {
   "cell_type": "markdown",
   "id": "20fed529-bb93-436d-9bc1-7275b2095869",
   "metadata": {},
   "source": [
    "# 온라인 쇼핑몰 매출관계 분석"
   ]
  },
  {
   "cell_type": "markdown",
   "id": "a8b1d3e1-eff2-4de8-a6d0-564e57b44fc8",
   "metadata": {},
   "source": [
    "- 국가통계포털 https://kosis.kr/index/index.do\n",
    "- 온라인쇼핑몰 판매매체별 / 상품군별거래액\n",
    "- 합계등을 제외하고 선택(전기전자통신 2020년전후로 분리되어서 미리 합침)\n",
    "- 행렬을 전환\n",
    "<div style=\"display:flex\">\n",
    "    <img style=\"padding:10px\" src=\"attachment:33e1e4c8-332d-42ca-907b-008ee328f08b.png\" width=180>\n",
    "    <img style=\"padding:10px\" src=\"attachment:581a4d47-326b-4b95-84e5-863e94fe7e7b.png\" width=180>\n",
    "</div>"
   ]
  },
  {
   "cell_type": "code",
   "execution_count": 1,
   "id": "3d7d16cf-d4d4-4328-b60b-84e008e609a5",
   "metadata": {},
   "outputs": [],
   "source": [
    "import matplotlib\n",
    "import matplotlib.pyplot as plt\n",
    "import matplotlib.font_manager as fm\n",
    "# import matplotlib.dates as mdates\n",
    "\n",
    "import pandas as pd\n",
    "from datetime import datetime"
   ]
  },
  {
   "cell_type": "code",
   "execution_count": 2,
   "id": "60fa7220-c6de-40e4-af9c-a799eecce6d9",
   "metadata": {},
   "outputs": [],
   "source": [
    "# font 설정 D2coding\n",
    "d2_path = \"./ref/D2Coding-Ver1.3.2-20180524.ttf\"\n",
    "fm.fontManager.addfont(d2_path)\n",
    "matplotlib.rcParams[\"font.family\"] = \"D2Coding\""
   ]
  },
  {
   "cell_type": "code",
   "execution_count": 3,
   "id": "7da20a1c-336c-4461-95b0-09880bc7f3c7",
   "metadata": {},
   "outputs": [
    {
     "data": {
      "text/html": [
       "<div>\n",
       "<style scoped>\n",
       "    .dataframe tbody tr th:only-of-type {\n",
       "        vertical-align: middle;\n",
       "    }\n",
       "\n",
       "    .dataframe tbody tr th {\n",
       "        vertical-align: top;\n",
       "    }\n",
       "\n",
       "    .dataframe thead th {\n",
       "        text-align: right;\n",
       "    }\n",
       "</style>\n",
       "<table border=\"1\" class=\"dataframe\">\n",
       "  <thead>\n",
       "    <tr style=\"text-align: right;\">\n",
       "      <th></th>\n",
       "      <th>category</th>\n",
       "      <th>date</th>\n",
       "      <th>internet</th>\n",
       "      <th>mobile</th>\n",
       "    </tr>\n",
       "  </thead>\n",
       "  <tbody>\n",
       "    <tr>\n",
       "      <th>0</th>\n",
       "      <td>컴퓨터 및 주변기기</td>\n",
       "      <td>2017.01</td>\n",
       "      <td>288391</td>\n",
       "      <td>133993</td>\n",
       "    </tr>\n",
       "    <tr>\n",
       "      <th>1</th>\n",
       "      <td>컴퓨터 및 주변기기</td>\n",
       "      <td>2017.02</td>\n",
       "      <td>329143</td>\n",
       "      <td>146200</td>\n",
       "    </tr>\n",
       "    <tr>\n",
       "      <th>2</th>\n",
       "      <td>컴퓨터 및 주변기기</td>\n",
       "      <td>2017.03</td>\n",
       "      <td>322089</td>\n",
       "      <td>151262</td>\n",
       "    </tr>\n",
       "    <tr>\n",
       "      <th>3</th>\n",
       "      <td>컴퓨터 및 주변기기</td>\n",
       "      <td>2017.04</td>\n",
       "      <td>251604</td>\n",
       "      <td>116675</td>\n",
       "    </tr>\n",
       "    <tr>\n",
       "      <th>4</th>\n",
       "      <td>컴퓨터 및 주변기기</td>\n",
       "      <td>2017.05</td>\n",
       "      <td>241871</td>\n",
       "      <td>109053</td>\n",
       "    </tr>\n",
       "  </tbody>\n",
       "</table>\n",
       "</div>"
      ],
      "text/plain": [
       "     category     date  internet  mobile\n",
       "0  컴퓨터 및 주변기기  2017.01    288391  133993\n",
       "1  컴퓨터 및 주변기기  2017.02    329143  146200\n",
       "2  컴퓨터 및 주변기기  2017.03    322089  151262\n",
       "3  컴퓨터 및 주변기기  2017.04    251604  116675\n",
       "4  컴퓨터 및 주변기기  2017.05    241871  109053"
      ]
     },
     "execution_count": 3,
     "metadata": {},
     "output_type": "execute_result"
    }
   ],
   "source": [
    "file_path = \"./ref/온라인쇼핑몰_판매매체별_상품군별거래액.csv\"\n",
    "ori = pd.read_csv(file_path, encoding=\"EUC-KR\") # utf-8\n",
    "ori.columns = ['category','date','internet','mobile']\n",
    "ori.head()\n",
    "# ori.tail()"
   ]
  },
  {
   "cell_type": "code",
   "execution_count": 4,
   "id": "1245e9d4-5ad2-41ad-b68e-1760825d4de2",
   "metadata": {},
   "outputs": [
    {
     "name": "stdout",
     "output_type": "stream",
     "text": [
      "====수정 전====\n",
      "2203       2024.08\n",
      "2204       2024.09\n",
      "2205       2024.10\n",
      "2206    2024.11 p)\n",
      "2207    2024.12 p)\n",
      "Name: date, dtype: object\n",
      "====수정 후====\n",
      "2203    2024.08\n",
      "2204    2024.09\n",
      "2205    2024.10\n",
      "2206    2024.11\n",
      "2207    2024.12\n",
      "Name: date, dtype: object\n"
     ]
    }
   ],
   "source": [
    "print(\"====수정 전====\")\n",
    "print(ori['date'].tail())\n",
    "ori['date'] = ori['date'].map(lambda x:x.strip(' p)'))\n",
    "print(\"====수정 후====\")\n",
    "print(ori['date'].tail())"
   ]
  },
  {
   "cell_type": "code",
   "execution_count": 5,
   "id": "7c7f6112-41b8-4fc7-bb78-57ff86cd8b53",
   "metadata": {},
   "outputs": [
    {
     "data": {
      "text/html": [
       "<div>\n",
       "<style scoped>\n",
       "    .dataframe tbody tr th:only-of-type {\n",
       "        vertical-align: middle;\n",
       "    }\n",
       "\n",
       "    .dataframe tbody tr th {\n",
       "        vertical-align: top;\n",
       "    }\n",
       "\n",
       "    .dataframe thead th {\n",
       "        text-align: right;\n",
       "    }\n",
       "</style>\n",
       "<table border=\"1\" class=\"dataframe\">\n",
       "  <thead>\n",
       "    <tr style=\"text-align: right;\">\n",
       "      <th></th>\n",
       "      <th>category</th>\n",
       "      <th>date</th>\n",
       "      <th>internet</th>\n",
       "      <th>mobile</th>\n",
       "    </tr>\n",
       "  </thead>\n",
       "  <tbody>\n",
       "    <tr>\n",
       "      <th>2203</th>\n",
       "      <td>기타</td>\n",
       "      <td>2024-08-01</td>\n",
       "      <td>61304</td>\n",
       "      <td>120200</td>\n",
       "    </tr>\n",
       "    <tr>\n",
       "      <th>2204</th>\n",
       "      <td>기타</td>\n",
       "      <td>2024-09-01</td>\n",
       "      <td>63863</td>\n",
       "      <td>126583</td>\n",
       "    </tr>\n",
       "    <tr>\n",
       "      <th>2205</th>\n",
       "      <td>기타</td>\n",
       "      <td>2024-10-01</td>\n",
       "      <td>68403</td>\n",
       "      <td>128216</td>\n",
       "    </tr>\n",
       "    <tr>\n",
       "      <th>2206</th>\n",
       "      <td>기타</td>\n",
       "      <td>2024-11-01</td>\n",
       "      <td>73246</td>\n",
       "      <td>135527</td>\n",
       "    </tr>\n",
       "    <tr>\n",
       "      <th>2207</th>\n",
       "      <td>기타</td>\n",
       "      <td>2024-12-01</td>\n",
       "      <td>75613</td>\n",
       "      <td>144134</td>\n",
       "    </tr>\n",
       "  </tbody>\n",
       "</table>\n",
       "</div>"
      ],
      "text/plain": [
       "     category       date  internet  mobile\n",
       "2203       기타 2024-08-01     61304  120200\n",
       "2204       기타 2024-09-01     63863  126583\n",
       "2205       기타 2024-10-01     68403  128216\n",
       "2206       기타 2024-11-01     73246  135527\n",
       "2207       기타 2024-12-01     75613  144134"
      ]
     },
     "execution_count": 5,
     "metadata": {},
     "output_type": "execute_result"
    }
   ],
   "source": [
    "ori['date'] = pd.to_datetime(ori[\"date\"], format='%Y.%m')\n",
    "ori.dtypes\n",
    "ori.tail()"
   ]
  },
  {
   "cell_type": "code",
   "execution_count": 6,
   "id": "06f80c37-7217-4866-bd05-c271a6fa0779",
   "metadata": {},
   "outputs": [
    {
     "data": {
      "text/html": [
       "<div>\n",
       "<style scoped>\n",
       "    .dataframe tbody tr th:only-of-type {\n",
       "        vertical-align: middle;\n",
       "    }\n",
       "\n",
       "    .dataframe tbody tr th {\n",
       "        vertical-align: top;\n",
       "    }\n",
       "\n",
       "    .dataframe thead th {\n",
       "        text-align: right;\n",
       "    }\n",
       "</style>\n",
       "<table border=\"1\" class=\"dataframe\">\n",
       "  <thead>\n",
       "    <tr style=\"text-align: right;\">\n",
       "      <th></th>\n",
       "      <th>category</th>\n",
       "      <th>date</th>\n",
       "      <th>internet</th>\n",
       "      <th>mobile</th>\n",
       "    </tr>\n",
       "  </thead>\n",
       "  <tbody>\n",
       "    <tr>\n",
       "      <th>1644</th>\n",
       "      <td>여행 및 교통서비스</td>\n",
       "      <td>2018-01-01</td>\n",
       "      <td>685630</td>\n",
       "      <td>805804</td>\n",
       "    </tr>\n",
       "    <tr>\n",
       "      <th>1125</th>\n",
       "      <td>음·식료품</td>\n",
       "      <td>2022-10-01</td>\n",
       "      <td>560689</td>\n",
       "      <td>1598920</td>\n",
       "    </tr>\n",
       "    <tr>\n",
       "      <th>1714</th>\n",
       "      <td>여행 및 교통서비스</td>\n",
       "      <td>2023-11-01</td>\n",
       "      <td>664179</td>\n",
       "      <td>1369969</td>\n",
       "    </tr>\n",
       "    <tr>\n",
       "      <th>1681</th>\n",
       "      <td>여행 및 교통서비스</td>\n",
       "      <td>2021-02-01</td>\n",
       "      <td>117466</td>\n",
       "      <td>452203</td>\n",
       "    </tr>\n",
       "    <tr>\n",
       "      <th>436</th>\n",
       "      <td>의복</td>\n",
       "      <td>2021-05-01</td>\n",
       "      <td>356514</td>\n",
       "      <td>1048361</td>\n",
       "    </tr>\n",
       "  </tbody>\n",
       "</table>\n",
       "</div>"
      ],
      "text/plain": [
       "        category       date  internet   mobile\n",
       "1644  여행 및 교통서비스 2018-01-01    685630   805804\n",
       "1125       음·식료품 2022-10-01    560689  1598920\n",
       "1714  여행 및 교통서비스 2023-11-01    664179  1369969\n",
       "1681  여행 및 교통서비스 2021-02-01    117466   452203\n",
       "436           의복 2021-05-01    356514  1048361"
      ]
     },
     "execution_count": 6,
     "metadata": {},
     "output_type": "execute_result"
    }
   ],
   "source": [
    "ex1_data = ori.copy()\n",
    "# ex1_data[ex1_data['category']== '음식서비스' ]\n",
    "obj = ['컴퓨터 및 주변기기','의복','신발','가방','음식서비스','음·식료품','애완용품','여행 및 교통서비스']\n",
    "ex1_data = ex1_data[ex1_data['category'].isin(obj)]\n",
    "ex1_data.sample(5)"
   ]
  },
  {
   "cell_type": "code",
   "execution_count": 7,
   "id": "d040a933-205f-4ce4-92a9-ca1af3975ecd",
   "metadata": {},
   "outputs": [
    {
     "data": {
      "image/png": "[encoded data removed]",
      "text/plain": [
       "<Figure size 1000x500 with 1 Axes>"
      ]
     },
     "metadata": {},
     "output_type": "display_data"
    }
   ],
   "source": [
    "fig , ax = plt.subplots(figsize=(10,5))\n",
    "\n",
    "category = obj # ['컴퓨터 및 주변기기','농축수산물','의복','신발','가방','음식서비스','음·식료품','애완용품','여행 및 교통서비스']\n",
    "for cate in category:\n",
    "    category_data = ex1_data[ex1_data['category'] == cate]\n",
    "    x_data = category_data['internet']\n",
    "    y_data = category_data['mobile']\n",
    "    ax.scatter( x_data , y_data, s = 20, label = cate )\n",
    "\n",
    "ax.set_xlabel(\"인터넷 쇼핑\")\n",
    "ax.set_ylabel(\"모바일 쇼핑\")\n",
    "ax.legend(loc=\"best\")\n",
    "ax.plot([0,1000000],[0,1000000],'k-',alpha=0.7)\n",
    "plt.show()"
   ]
  },
  {
   "cell_type": "markdown",
   "id": "026e63fb-96ba-435a-86fe-0025b6ccd0fc",
   "metadata": {},
   "source": [
    "### 선색\n",
    "- 'k': 검은색 (black)을 의미합니다. Matplotlib에서는 여러 가지 색을 한 글자로 나타낼 수 있습니다.\n",
    "- 'b': 파란색 (blue)\n",
    "- 'g': 녹색 (green)\n",
    "- 'r': 빨간색 (red)\n",
    "- 'c': 청록색 (cyan)\n",
    "- 'm': 자홍색 (magenta)\n",
    "- 'y': 노란색 (yellow)\n",
    "- 'k': 검은색 (black)\n",
    "- 'w': 흰색 (white)\n",
    "### 선종류\n",
    "- '-': 실선 (solid line)을 의미합니다. 선 스타일에는 다양한 종류가 있습니다.\n",
    "- '-': 실선 (solid line)\n",
    "- '--': 파선 (dashed line)\n",
    "- '-.': 점선-파선 혼합 (dash-dot line)\n",
    "- ':': 점선 (dotted line)"
   ]
  },
  {
   "cell_type": "code",
   "execution_count": null,
   "id": "e8b0c686-8b76-449d-b9ef-111bc74667d3",
   "metadata": {},
   "outputs": [],
   "source": [
    "ex1_data = ori.copy()\n",
    "# ex1_data[ex1_data['category']== '음식서비스' ]\n",
    "obj = ['가전·전자·통신기기','가구','서적','패션용품 및 액세서리','스포츠·레저용품','아동·유아용품','농축수산물','생활용품','애완용품','여행 및 교통서비스','문화 및 레저서비스']\n",
    "ex1_data = ex1_data[ex1_data['category'].isin(obj)]\n",
    "ex1_data.sample(5)"
   ]
  }
 ],
 "metadata": {
  "kernelspec": {
   "display_name": "Python 3 (ipykernel)",
   "language": "python",
   "name": "python3"
  },
  "language_info": {
   "codemirror_mode": {
    "name": "ipython",
    "version": 3
   },
   "file_extension": ".py",
   "mimetype": "text/x-python",
   "name": "python",
   "nbconvert_exporter": "python",
   "pygments_lexer": "ipython3",
   "version": "3.13.1"
  }
 },
 "nbformat": 4,
 "nbformat_minor": 5
}
