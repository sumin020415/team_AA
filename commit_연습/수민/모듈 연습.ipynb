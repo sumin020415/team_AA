{
 "cells": [
  {
   "cell_type": "code",
   "execution_count": 2,
   "id": "5f87413f-99c5-4433-bb07-a3e96c094f85",
   "metadata": {},
   "outputs": [],
   "source": [
    "# 입력을 하면 그 단어가 거꾸로 해도 같은 단어인지 확인하는 프로그램을 만들어라"
   ]
  },
  {
   "cell_type": "code",
   "execution_count": 8,
   "id": "f47b6824-f0ba-4e4b-aa20-1b39e6ddf02b",
   "metadata": {},
   "outputs": [
    {
     "name": "stdin",
     "output_type": "stream",
     "text": [
      "단어를 입력하세요:  단어단어\n"
     ]
    },
    {
     "name": "stdout",
     "output_type": "stream",
     "text": [
      "False\n"
     ]
    }
   ],
   "source": [
    "def reverse(s):\n",
    "    word = \"\"\n",
    "    for i in s:\n",
    "        word = i + word\n",
    "    if word == s :\n",
    "        return True\n",
    "    else:\n",
    "        return False\n",
    "\n",
    "s = input(\"단어를 입력하세요: \")\n",
    "s = s.upper()\n",
    "new = \"\"        \n",
    "i = 0\n",
    "for i in range(len(s)):\n",
    "    if s[i] != \" \" and s[i] != \",\" and s[i] != \"?\":\n",
    "        new = new + s[i]\n",
    "result = reverse(new)\n",
    "print(result)"
   ]
  },
  {
   "cell_type": "code",
   "execution_count": 3,
   "id": "b9d1195f-0f94-4e65-810f-6b38f7bd5aa2",
   "metadata": {},
   "outputs": [],
   "source": [
    "# 하나의 긴 리스트 값을 입력하면 두 개의 리스트로 결과가 나오는데 각각 짝수의 값이 담기고 홀수의 값이 담기도록 해라"
   ]
  },
  {
   "cell_type": "code",
   "execution_count": 7,
   "id": "4d7b207f-d946-4e5e-8ef7-f56b19cf056b",
   "metadata": {},
   "outputs": [],
   "source": [
    "import requests as req\n",
    "import sys\n",
    "\n",
    "# 인자 받기\n",
    "args = sys.argv[1:]\n",
    "\n",
    "def distinction(*args):\n",
    "    even = []\n",
    "    odd = []\n",
    "    for l in args:\n",
    "        num = int(l)  # 문자열을 정수로 변환\n",
    "        if num % 2 == 0:\n",
    "            even.append(num)\n",
    "        else: \n",
    "            odd.append(num)\n",
    "    result = even, odd # *들여쓰기 주의*\n",
    "    return result\n",
    "\n",
    "print(distinction(*args))"
   ]
  },
  {
   "cell_type": "code",
   "execution_count": null,
   "id": "e37833d4-6f36-4490-a839-3c40405aad1e",
   "metadata": {},
   "outputs": [],
   "source": [
    "# 하나의 긴 문장을 입력받았을 때 그 문장 중에 가장 긴 단어를 밖으로 출력하게 해라 (긴글자가 하나 이상 있으면 그 글자 모두)"
   ]
  },
  {
   "cell_type": "code",
   "execution_count": 17,
   "id": "b4be8133-2ba9-4b80-a07a-ba40ddbed707",
   "metadata": {},
   "outputs": [
    {
     "name": "stdin",
     "output_type": "stream",
     "text": [
      "문장을 입력하세요:  안녕 커피 한잔 할래?\n"
     ]
    },
    {
     "name": "stdout",
     "output_type": "stream",
     "text": [
      "문장 중 가장 긴 단어는: 할래?\n"
     ]
    }
   ],
   "source": [
    "import sys\n",
    "\n",
    "def find_words(sentence):\n",
    "    if not sentence.strip():\n",
    "        return []  \n",
    "    words = sentence.split()\n",
    "    max_len = max(len(word) for word in words)\n",
    "    long = [word for word in words if len(word) == max_len]\n",
    "    return long\n",
    "\n",
    "sentence = input(\"문장을 입력하세요: \")\n",
    "longest_words = find_words(sentence)\n",
    "\n",
    "if longest_words:\n",
    "    print(\"문장 중 가장 긴 단어는:\", \", \".join(longest_words))\n",
    "else:\n",
    "    print(\"입력된 문장이 없습니다.\")"
   ]
  },
  {
   "cell_type": "code",
   "execution_count": null,
   "id": "a5fd6ef9-7043-451b-a6b7-9ef3e6cca7c6",
   "metadata": {},
   "outputs": [],
   "source": [
    "# 입력을 받은 문장을 분류해라"
   ]
  },
  {
   "cell_type": "code",
   "execution_count": 25,
   "id": "9eb03b5b-6d57-44ac-a313-f805819a8132",
   "metadata": {},
   "outputs": [],
   "source": [
    "# 영어 소문자로 문장을 입력받으면 매 첫글자만 대문자로 변경되게 하고 문장의 마지막은 마침표를 찍어라. / apples are delicious -> Apples Are Delicious."
   ]
  }
 ],
 "metadata": {
  "kernelspec": {
   "display_name": "Python 3 (ipykernel)",
   "language": "python",
   "name": "python3"
  },
  "language_info": {
   "codemirror_mode": {
    "name": "ipython",
    "version": 3
   },
   "file_extension": ".py",
   "mimetype": "text/x-python",
   "name": "python",
   "nbconvert_exporter": "python",
   "pygments_lexer": "ipython3",
   "version": "3.13.1"
  }
 },
 "nbformat": 4,
 "nbformat_minor": 5
}
