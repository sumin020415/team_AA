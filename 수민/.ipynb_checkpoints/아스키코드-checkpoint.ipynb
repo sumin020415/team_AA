{
 "cells": [
  {
   "cell_type": "code",
   "execution_count": 1,
   "id": "8b355fb9-6332-4cf0-92a3-e43c86881cd4",
   "metadata": {},
   "outputs": [
    {
     "name": "stdout",
     "output_type": "stream",
     "text": [
      "65\n",
      "66\n",
      "\n",
      "A B C D E F G H I J K L M N O P Q R S T U V W X Y Z\n"
     ]
    }
   ],
   "source": [
    "# 아스키코드표를 보고 A부터 Z까지 차례로 모두 출력하라.\n",
    "print(ord('A'))\n",
    "print(ord('B'))\n",
    "print()\n",
    "print(chr(65),chr(66),chr(67),chr(68),chr(69),chr(70),chr(71),chr(72),chr(73),chr(74),chr(75),chr(76),chr(77),chr(78),chr(79),chr(80),chr(81),chr(82),chr(83),chr(84),chr(85),chr(86),chr(87),chr(88),chr(89),chr(90))"
   ]
  },
  {
   "cell_type": "code",
   "execution_count": 2,
   "id": "449ce8d6-7898-4f26-8db4-4d5f740bf758",
   "metadata": {},
   "outputs": [
    {
     "name": "stdout",
     "output_type": "stream",
     "text": [
      "z\n",
      "y\n",
      "x\n",
      "w\n",
      "v\n",
      "u\n",
      "t\n",
      "s\n",
      "r\n",
      "q\n",
      "p\n",
      "o\n",
      "n\n",
      "m\n",
      "l\n",
      "k\n",
      "j\n",
      "i\n",
      "h\n",
      "g\n",
      "f\n",
      "e\n",
      "d\n",
      "c\n",
      "b\n",
      "a\n"
     ]
    }
   ],
   "source": [
    "# 소문자 z부터 a까지 역순으로 모두 차레로 출력하라.\n",
    "print(chr(122))\n",
    "print(chr(121))\n",
    "print(chr(120))\n",
    "print(chr(119))\n",
    "print(chr(118))\n",
    "print(chr(117))\n",
    "print(chr(116))\n",
    "print(chr(115))\n",
    "print(chr(114))\n",
    "print(chr(113))\n",
    "print(chr(112))\n",
    "print(chr(111))\n",
    "print(chr(110))\n",
    "print(chr(109))\n",
    "print(chr(108))\n",
    "print(chr(107))\n",
    "print(chr(106))\n",
    "print(chr(105))\n",
    "print(chr(104))\n",
    "print(chr(103))\n",
    "print(chr(102))\n",
    "print(chr(101))\n",
    "print(chr(100))\n",
    "print(chr(99))\n",
    "print(chr(98))\n",
    "print(chr(97))"
   ]
  },
  {
   "cell_type": "code",
   "execution_count": 3,
   "id": "823bea18-c118-4d72-8cf3-cfad081df93a",
   "metadata": {},
   "outputs": [
    {
     "name": "stdout",
     "output_type": "stream",
     "text": [
      "A1 A2 A3 A4 A5 A6 A7 A8 A9 A10\n",
      "B1 B2 B3 B4 B5 B6 B7 B8 B9 B10\n",
      "C1 C2 C3 C4 C5 C6 C7 C8 C9 C10\n"
     ]
    }
   ],
   "source": [
    "# A1부터 A10까지 증가 후 B1부터 B10까지 증가 그리고 C1부터 C10까지 증가하게 해라.\n",
    "print(chr(65)+chr(49),chr(65)+chr(50),chr(65)+chr(51),chr(65)+chr(52),chr(65)+chr(53),chr(65)+chr(54),chr(65)+chr(55),chr(65)+chr(56),chr(65)+chr(57),chr(65)+chr(49)+chr(48))\n",
    "print(chr(66)+chr(49),chr(66)+chr(50),chr(66)+chr(51),chr(66)+chr(52),chr(66)+chr(53),chr(66)+chr(54),chr(66)+chr(55),chr(66)+chr(56),chr(66)+chr(57),chr(66)+chr(49)+chr(48))\n",
    "print(chr(67)+chr(49),chr(67)+chr(50),chr(67)+chr(51),chr(67)+chr(52),chr(67)+chr(53),chr(67)+chr(54),chr(67)+chr(55),chr(67)+chr(56),chr(67)+chr(57),chr(67)+chr(49)+chr(48))"
   ]
  },
  {
   "cell_type": "code",
   "execution_count": null,
   "id": "67d866a4-5610-4e0a-831a-cd6ac14bbcbc",
   "metadata": {},
   "outputs": [],
   "source": []
  }
 ],
 "metadata": {
  "kernelspec": {
   "display_name": "Python 3 (ipykernel)",
   "language": "python",
   "name": "python3"
  },
  "language_info": {
   "codemirror_mode": {
    "name": "ipython",
    "version": 3
   },
   "file_extension": ".py",
   "mimetype": "text/x-python",
   "name": "python",
   "nbconvert_exporter": "python",
   "pygments_lexer": "ipython3",
   "version": "3.13.1"
  }
 },
 "nbformat": 4,
 "nbformat_minor": 5
}
